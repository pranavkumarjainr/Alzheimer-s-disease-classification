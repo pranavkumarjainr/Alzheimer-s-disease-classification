{
  "cells": [
    {
      "cell_type": "code",
      "execution_count": 1,
      "metadata": {
        "colab": {
          "base_uri": "https://localhost:8080/"
        },
        "id": "ILYPNSqlXEZd",
        "outputId": "50949862-8f4b-42d3-cef0-7c72390a0cc1"
      },
      "outputs": [
        {
          "output_type": "stream",
          "name": "stdout",
          "text": [
            "Mounted at /content/drive\n"
          ]
        }
      ],
      "source": [
        "from google.colab import drive\n",
        "drive.mount('/content/drive')"
      ]
    },
    {
      "cell_type": "code",
      "execution_count": null,
      "metadata": {
        "id": "YFzd1HSfXF2R"
      },
      "outputs": [],
      "source": [
        "!unzip \"/content/drive/MyDrive/Alzemier-Dataset.zip\""
      ]
    },
    {
      "cell_type": "code",
      "execution_count": 3,
      "metadata": {
        "id": "Ch6no0D2V2R9"
      },
      "outputs": [],
      "source": [
        "import numpy as np\n",
        "import pandas as pd\n",
        "import matplotlib.pyplot as plt\n",
        "import seaborn as sn\n",
        "import skimage.io\n",
        "import os \n",
        "import tqdm\n",
        "import glob\n",
        "import tensorflow \n",
        "\n",
        "from tqdm import tqdm\n",
        "from sklearn.utils import shuffle\n",
        "from sklearn import metrics\n",
        "\n",
        "from sklearn.metrics import confusion_matrix, classification_report\n",
        "from sklearn.model_selection import train_test_split\n",
        "\n",
        "from skimage.io import imread, imshow\n",
        "from skimage.transform import resize\n",
        "from skimage.color import grey2rgb\n",
        "\n",
        "import tensorflow as tf\n",
        "from tensorflow.keras.preprocessing.image import ImageDataGenerator\n",
        "from tensorflow.keras.preprocessing import image_dataset_from_directory\n",
        "from tensorflow.keras.models import Sequential\n",
        "from tensorflow.keras.layers import InputLayer, BatchNormalization, Dropout, Flatten, Dense, Activation, MaxPooling2D, Conv2D\n",
        "from tensorflow.keras.callbacks import EarlyStopping, ModelCheckpoint\n",
        "from tensorflow.keras.applications.vgg16 import VGG16\n",
        "from tensorflow.keras.applications.resnet50 import ResNet50\n",
        "from tensorflow.keras.applications.inception_v3 import InceptionV3\n",
        "from tensorflow.keras.utils import to_categorical\n",
        "from keras import optimizers\n",
        "\n",
        "from keras.callbacks import Callback,ModelCheckpoint\n",
        "from keras.models import Sequential,load_model\n",
        "from keras.layers import Dense, Dropout\n",
        "from keras.wrappers.scikit_learn import KerasClassifier\n",
        "import keras.backend as K\n",
        "\n",
        "from typeguard import typechecked\n",
        "from typing import Optional"
      ]
    },
    {
      "cell_type": "code",
      "execution_count": 4,
      "metadata": {
        "id": "6TzxJtB1V3f0"
      },
      "outputs": [],
      "source": [
        "train_datagen = ImageDataGenerator(rescale = 1./255, validation_split = 0.2, rotation_range=10,\n",
        "                                   width_shift_range=0.2, height_shift_range=0.2, shear_range=0.2,\n",
        "                                   zoom_range=0.2, horizontal_flip=True, vertical_flip=True, fill_mode='nearest')\n",
        "\n",
        "valid_datagen = ImageDataGenerator(rescale = 1./255, validation_split = 0.2)\n",
        "\n",
        "test_datagen  = ImageDataGenerator(rescale = 1./255)"
      ]
    },
    {
      "cell_type": "code",
      "execution_count": 5,
      "metadata": {
        "id": "Di2BMV38WPps",
        "colab": {
          "base_uri": "https://localhost:8080/"
        },
        "outputId": "17570e90-0d3b-49c6-cc1a-876e80a79778"
      },
      "outputs": [
        {
          "output_type": "stream",
          "name": "stdout",
          "text": [
            "Found 4098 images belonging to 4 classes.\n"
          ]
        }
      ],
      "source": [
        "train_dataset  = train_datagen.flow_from_directory(directory = '/content/Alzheimer_s Dataset/train',\n",
        "                                                   target_size = (224,224), class_mode = 'categorical',\n",
        "                                                   subset = 'training', batch_size = 32)"
      ]
    },
    {
      "cell_type": "code",
      "execution_count": 6,
      "metadata": {
        "id": "xL6l7LYrXZJ0",
        "colab": {
          "base_uri": "https://localhost:8080/"
        },
        "outputId": "b4370fe1-a0e4-4321-d19e-61caef8b8cb8"
      },
      "outputs": [
        {
          "output_type": "stream",
          "name": "stdout",
          "text": [
            "Found 1023 images belonging to 4 classes.\n"
          ]
        }
      ],
      "source": [
        "valid_dataset = valid_datagen.flow_from_directory(directory = '/content/Alzheimer_s Dataset/train',\n",
        "                                                  target_size = (224,224), class_mode = 'categorical',\n",
        "                                                  subset = 'validation', batch_size = 32)"
      ]
    },
    {
      "cell_type": "code",
      "execution_count": 7,
      "metadata": {
        "id": "lcLwV_-cXrcd",
        "colab": {
          "base_uri": "https://localhost:8080/"
        },
        "outputId": "a02e8b89-a5b2-41f6-d46c-5df599a6aab9"
      },
      "outputs": [
        {
          "output_type": "stream",
          "name": "stdout",
          "text": [
            "Found 1279 images belonging to 4 classes.\n"
          ]
        }
      ],
      "source": [
        "test_dataset = test_datagen.flow_from_directory(directory = '/content/Alzheimer_s Dataset/test',\n",
        "                                                  target_size = (224,224), class_mode = 'categorical',\n",
        "                                                  batch_size = 32)"
      ]
    },
    {
      "cell_type": "code",
      "execution_count": 8,
      "metadata": {
        "id": "15jY1hJ8YEmv"
      },
      "outputs": [],
      "source": [
        "METRICS = [tf.keras.metrics.BinaryAccuracy(name='accuracy')]"
      ]
    },
    {
      "cell_type": "code",
      "execution_count": 9,
      "metadata": {
        "id": "2wsBJyl2YVFZ"
      },
      "outputs": [],
      "source": [
        "def exponential_decay(lr0, s):\n",
        "    def exponential_decay_fn(epoch):\n",
        "        return lr0 * 0.1 **(epoch / s)\n",
        "    return exponential_decay_fn\n",
        "\n",
        "exponential_decay_fn = exponential_decay(0.01, 5) # when i run it for 50 epochs\n",
        "\n",
        "lr_scheduler = tf.keras.callbacks.LearningRateScheduler(exponential_decay_fn)"
      ]
    },
    {
      "cell_type": "markdown",
      "source": [
        "# CNN"
      ],
      "metadata": {
        "id": "x0ZI-PgcCsMt"
      }
    },
    {
      "cell_type": "code",
      "execution_count": 10,
      "metadata": {
        "id": "JbnIR87cX5IT",
        "colab": {
          "base_uri": "https://localhost:8080/"
        },
        "outputId": "64ea11c1-5a42-436e-f582-2742f683ed28"
      },
      "outputs": [
        {
          "output_type": "stream",
          "name": "stdout",
          "text": [
            "Model: \"sequential\"\n",
            "_________________________________________________________________\n",
            " Layer (type)                Output Shape              Param #   \n",
            "=================================================================\n",
            " conv2d (Conv2D)             (None, 224, 224, 16)      448       \n",
            "                                                                 \n",
            " conv2d_1 (Conv2D)           (None, 224, 224, 32)      4640      \n",
            "                                                                 \n",
            " max_pooling2d (MaxPooling2D  (None, 112, 112, 32)     0         \n",
            " )                                                               \n",
            "                                                                 \n",
            " conv2d_2 (Conv2D)           (None, 112, 112, 32)      9248      \n",
            "                                                                 \n",
            " conv2d_3 (Conv2D)           (None, 112, 112, 64)      18496     \n",
            "                                                                 \n",
            " max_pooling2d_1 (MaxPooling  (None, 56, 56, 64)       0         \n",
            " 2D)                                                             \n",
            "                                                                 \n",
            " conv2d_4 (Conv2D)           (None, 56, 56, 64)        36928     \n",
            "                                                                 \n",
            " conv2d_5 (Conv2D)           (None, 56, 56, 128)       73856     \n",
            "                                                                 \n",
            " max_pooling2d_2 (MaxPooling  (None, 28, 28, 128)      0         \n",
            " 2D)                                                             \n",
            "                                                                 \n",
            " conv2d_6 (Conv2D)           (None, 28, 28, 128)       147584    \n",
            "                                                                 \n",
            " conv2d_7 (Conv2D)           (None, 28, 28, 128)       147584    \n",
            "                                                                 \n",
            " max_pooling2d_3 (MaxPooling  (None, 14, 14, 128)      0         \n",
            " 2D)                                                             \n",
            "                                                                 \n",
            " flatten (Flatten)           (None, 25088)             0         \n",
            "                                                                 \n",
            " dense (Dense)               (None, 32)                802848    \n",
            "                                                                 \n",
            " dense_1 (Dense)             (None, 32)                1056      \n",
            "                                                                 \n",
            " dense_2 (Dense)             (None, 32)                1056      \n",
            "                                                                 \n",
            " dense_3 (Dense)             (None, 32)                1056      \n",
            "                                                                 \n",
            " dense_4 (Dense)             (None, 4)                 132       \n",
            "                                                                 \n",
            " activation (Activation)     (None, 4)                 0         \n",
            "                                                                 \n",
            "=================================================================\n",
            "Total params: 1,244,932\n",
            "Trainable params: 1,244,932\n",
            "Non-trainable params: 0\n",
            "_________________________________________________________________\n"
          ]
        }
      ],
      "source": [
        "def build_model():\n",
        "    \n",
        "    model = Sequential()\n",
        "    \n",
        "    model.add(Conv2D(16,(3,3),padding='same',input_shape = (224,224,3),activation='relu'))\n",
        "    \n",
        "    model.add(Conv2D(32,(3,3),padding='same',activation='relu'))\n",
        "    model.add(MaxPooling2D(pool_size=(2,2),strides=2,padding = 'same'))\n",
        "    \n",
        "    model.add(Conv2D(32,(3,3),padding='same',activation='relu'))\n",
        "    \n",
        "    \n",
        "    model.add(Conv2D(64,(3,3),padding='same',activation='relu'))\n",
        "    model.add(MaxPooling2D(pool_size=(2,2),strides=2,padding = 'same'))\n",
        "    \n",
        "    model.add(Conv2D(64,(3,3),padding='same',activation='relu'))\n",
        "    \n",
        "    model.add(Conv2D(128,(3,3),padding='same',activation='relu'))\n",
        "    model.add(MaxPooling2D(pool_size=(2,2),strides=2,padding = 'same'))\n",
        "    \n",
        "    model.add(Conv2D(128,(3,3),padding='same',activation='relu'))\n",
        "    \n",
        "    model.add(Conv2D(128,(3,3),padding='same',activation='relu'))\n",
        "    model.add(MaxPooling2D(pool_size=(2,2),strides=2,padding = 'same'))\n",
        "    \n",
        "    model.add(Flatten())\n",
        "    model.add(Dense(32))\n",
        "    model.add(Dense(32))\n",
        "    model.add(Dense(32))\n",
        "    model.add(Dense(32))\n",
        "    model.add(Dense(4))\n",
        "    model.add(Activation('softmax'))\n",
        "    \n",
        "    return model\n",
        "\n",
        "model = build_model()\n",
        "model.summary()"
      ]
    },
    {
      "cell_type": "code",
      "execution_count": 11,
      "metadata": {
        "id": "sovS-cSOYkyu"
      },
      "outputs": [],
      "source": [
        "model.compile(optimizer=tf.keras.optimizers.Adam(learning_rate=0.001), \n",
        "              loss='categorical_crossentropy',metrics=METRICS)"
      ]
    },
    {
      "cell_type": "code",
      "execution_count": 12,
      "metadata": {
        "id": "T4GaP-j5YyWt",
        "colab": {
          "base_uri": "https://localhost:8080/"
        },
        "outputId": "ac31f759-1dde-4b45-afa3-9494910c0817"
      },
      "outputs": [
        {
          "output_type": "stream",
          "name": "stdout",
          "text": [
            "Epoch 1/10\n",
            "129/129 [==============================] - 73s 477ms/step - loss: 6.4128 - accuracy: 0.7504 - val_loss: 1.0411 - val_accuracy: 0.7502 - lr: 0.0100\n",
            "Epoch 2/10\n",
            "129/129 [==============================] - 60s 460ms/step - loss: 1.0430 - accuracy: 0.7488 - val_loss: 1.0367 - val_accuracy: 0.7502 - lr: 0.0063\n",
            "Epoch 3/10\n",
            "129/129 [==============================] - 60s 467ms/step - loss: 1.0414 - accuracy: 0.7488 - val_loss: 1.0528 - val_accuracy: 0.7500 - lr: 0.0040\n",
            "Epoch 4/10\n",
            "129/129 [==============================] - 60s 465ms/step - loss: 1.0391 - accuracy: 0.7487 - val_loss: 1.0350 - val_accuracy: 0.7500 - lr: 0.0025\n",
            "Epoch 5/10\n",
            "129/129 [==============================] - 59s 454ms/step - loss: 1.0380 - accuracy: 0.7488 - val_loss: 1.0343 - val_accuracy: 0.7502 - lr: 0.0016\n",
            "Epoch 6/10\n",
            "129/129 [==============================] - 59s 454ms/step - loss: 1.0378 - accuracy: 0.7490 - val_loss: 1.0370 - val_accuracy: 0.7500 - lr: 0.0010\n",
            "Epoch 7/10\n",
            "129/129 [==============================] - 59s 454ms/step - loss: 1.0377 - accuracy: 0.7500 - val_loss: 1.0343 - val_accuracy: 0.7500 - lr: 6.3096e-04\n",
            "Epoch 8/10\n",
            "129/129 [==============================] - 59s 457ms/step - loss: 1.0367 - accuracy: 0.7505 - val_loss: 1.0344 - val_accuracy: 0.7500 - lr: 3.9811e-04\n",
            "Epoch 9/10\n",
            "129/129 [==============================] - 59s 454ms/step - loss: 1.0368 - accuracy: 0.7482 - val_loss: 1.0343 - val_accuracy: 0.7500 - lr: 2.5119e-04\n",
            "Epoch 10/10\n",
            "129/129 [==============================] - 58s 452ms/step - loss: 1.0368 - accuracy: 0.7476 - val_loss: 1.0343 - val_accuracy: 0.7500 - lr: 1.5849e-04\n"
          ]
        }
      ],
      "source": [
        "history=model.fit(train_dataset, validation_data=valid_dataset, epochs = 10,\n",
        "                  verbose = 1, callbacks=lr_scheduler)"
      ]
    },
    {
      "cell_type": "code",
      "execution_count": 13,
      "metadata": {
        "id": "pBiD-oocY63_",
        "colab": {
          "base_uri": "https://localhost:8080/",
          "height": 370
        },
        "outputId": "6424ee8b-44e6-48b9-81a2-8313e4ccdd2a"
      },
      "outputs": [
        {
          "output_type": "display_data",
          "data": {
            "image/png": "[encoded data removed]",
            "text/plain": [
              "<Figure size 1440x360 with 2 Axes>"
            ]
          },
          "metadata": {
            "needs_background": "light"
          }
        }
      ],
      "source": [
        "def Train_Val_Plot(acc,val_acc,loss,val_loss):\n",
        "    \n",
        "    fig, (ax1,ax2) = plt.subplots(1,2, figsize= (20,5))\n",
        "    fig.suptitle(\" MODEL'S METRICS VISUALIZATION \")\n",
        "\n",
        "    ax1.plot(range(1, len(acc) + 1), acc)\n",
        "    ax1.plot(range(1, len(val_acc) + 1), val_acc)\n",
        "    ax1.set_title('History of Accuracy')\n",
        "    ax1.set_xlabel('Epochs')\n",
        "    ax1.set_ylabel('Accuracy')\n",
        "    ax1.legend(['training', 'validation'])\n",
        "\n",
        "\n",
        "    ax2.plot(range(1, len(loss) + 1), loss)\n",
        "    ax2.plot(range(1, len(val_loss) + 1), val_loss)\n",
        "    ax2.set_title('History of Loss')\n",
        "    ax2.set_xlabel('Epochs')\n",
        "    ax2.set_ylabel('Loss')\n",
        "    ax2.legend(['training', 'validation'])\n",
        "\n",
        "    plt.show()\n",
        "    \n",
        "\n",
        "Train_Val_Plot(history.history['accuracy'],history.history['val_accuracy'],\n",
        "               history.history['loss'],history.history['val_loss'])"
      ]
    },
    {
      "cell_type": "code",
      "execution_count": 14,
      "metadata": {
        "id": "9vQQ45KXaDFc",
        "colab": {
          "base_uri": "https://localhost:8080/"
        },
        "outputId": "d95923a6-491d-4f10-a03b-778074a906c0"
      },
      "outputs": [
        {
          "output_type": "stream",
          "name": "stderr",
          "text": [
            "/usr/local/lib/python3.7/dist-packages/ipykernel_launcher.py:1: UserWarning: `Model.evaluate_generator` is deprecated and will be removed in a future version. Please use `Model.evaluate`, which supports generators.\n",
            "  \"\"\"Entry point for launching an IPython kernel.\n"
          ]
        }
      ],
      "source": [
        "scores = model.evaluate_generator(test_dataset)"
      ]
    },
    {
      "cell_type": "code",
      "execution_count": 15,
      "metadata": {
        "id": "E-epvZG8aGFz",
        "colab": {
          "base_uri": "https://localhost:8080/"
        },
        "outputId": "042daecc-6843-4a97-9e69-be5eedeacda3"
      },
      "outputs": [
        {
          "output_type": "stream",
          "name": "stdout",
          "text": [
            "Loss =  1.0330488681793213\n",
            "Accuracy =  0.75\n"
          ]
        }
      ],
      "source": [
        "print(\"Loss = \", scores[0])\n",
        "print(\"Accuracy = \", scores[1])"
      ]
    },
    {
      "cell_type": "code",
      "execution_count": 16,
      "metadata": {
        "id": "O0B5BKSFIZt0"
      },
      "outputs": [],
      "source": [
        "metrics_lis = []\n",
        "metrics_lis.append([\"CNN\", scores[0], scores[1]])"
      ]
    },
    {
      "cell_type": "markdown",
      "source": [
        "# ResNet"
      ],
      "metadata": {
        "id": "lDlOReSUCa1n"
      }
    },
    {
      "cell_type": "code",
      "execution_count": 17,
      "metadata": {
        "id": "hHlHH3AwaGI1",
        "colab": {
          "base_uri": "https://localhost:8080/"
        },
        "outputId": "81e98dc8-9a55-472f-ce11-581296521564"
      },
      "outputs": [
        {
          "output_type": "stream",
          "name": "stdout",
          "text": [
            "Downloading data from https://storage.googleapis.com/tensorflow/keras-applications/resnet/resnet50_weights_tf_dim_ordering_tf_kernels_notop.h5\n",
            "94773248/94765736 [==============================] - 1s 0us/step\n",
            "94781440/94765736 [==============================] - 1s 0us/step\n"
          ]
        }
      ],
      "source": [
        "base_model = ResNet50(input_shape=(224,224,3), include_top=False, weights=\"imagenet\")"
      ]
    },
    {
      "cell_type": "code",
      "execution_count": 18,
      "metadata": {
        "id": "QBSG4tLZfTHg"
      },
      "outputs": [],
      "source": [
        "for layer in base_model.layers:\n",
        "    layer.trainable=False"
      ]
    },
    {
      "cell_type": "code",
      "execution_count": 19,
      "metadata": {
        "id": "H5_5KPp7fTJu",
        "colab": {
          "base_uri": "https://localhost:8080/"
        },
        "outputId": "c2566a5f-0bb9-43a2-8ee5-ff9b09fc361e"
      },
      "outputs": [
        {
          "output_type": "stream",
          "name": "stdout",
          "text": [
            "Model: \"sequential_1\"\n",
            "_________________________________________________________________\n",
            " Layer (type)                Output Shape              Param #   \n",
            "=================================================================\n",
            " resnet50 (Functional)       (None, 7, 7, 2048)        23587712  \n",
            "                                                                 \n",
            " dropout (Dropout)           (None, 7, 7, 2048)        0         \n",
            "                                                                 \n",
            " flatten_1 (Flatten)         (None, 100352)            0         \n",
            "                                                                 \n",
            " batch_normalization (BatchN  (None, 100352)           401408    \n",
            " ormalization)                                                   \n",
            "                                                                 \n",
            " dense_5 (Dense)             (None, 64)                6422592   \n",
            "                                                                 \n",
            " batch_normalization_1 (Batc  (None, 64)               256       \n",
            " hNormalization)                                                 \n",
            "                                                                 \n",
            " activation_1 (Activation)   (None, 64)                0         \n",
            "                                                                 \n",
            " dropout_1 (Dropout)         (None, 64)                0         \n",
            "                                                                 \n",
            " dense_6 (Dense)             (None, 64)                4160      \n",
            "                                                                 \n",
            " batch_normalization_2 (Batc  (None, 64)               256       \n",
            " hNormalization)                                                 \n",
            "                                                                 \n",
            " activation_2 (Activation)   (None, 64)                0         \n",
            "                                                                 \n",
            " dropout_2 (Dropout)         (None, 64)                0         \n",
            "                                                                 \n",
            " dense_7 (Dense)             (None, 64)                4160      \n",
            "                                                                 \n",
            " batch_normalization_3 (Batc  (None, 64)               256       \n",
            " hNormalization)                                                 \n",
            "                                                                 \n",
            " activation_3 (Activation)   (None, 64)                0         \n",
            "                                                                 \n",
            " dropout_3 (Dropout)         (None, 64)                0         \n",
            "                                                                 \n",
            " dense_8 (Dense)             (None, 32)                2080      \n",
            "                                                                 \n",
            " batch_normalization_4 (Batc  (None, 32)               128       \n",
            " hNormalization)                                                 \n",
            "                                                                 \n",
            " activation_4 (Activation)   (None, 32)                0         \n",
            "                                                                 \n",
            " dropout_4 (Dropout)         (None, 32)                0         \n",
            "                                                                 \n",
            " dense_9 (Dense)             (None, 32)                1056      \n",
            "                                                                 \n",
            " batch_normalization_5 (Batc  (None, 32)               128       \n",
            " hNormalization)                                                 \n",
            "                                                                 \n",
            " activation_5 (Activation)   (None, 32)                0         \n",
            "                                                                 \n",
            " dense_10 (Dense)            (None, 4)                 132       \n",
            "                                                                 \n",
            "=================================================================\n",
            "Total params: 30,424,324\n",
            "Trainable params: 6,635,396\n",
            "Non-trainable params: 23,788,928\n",
            "_________________________________________________________________\n"
          ]
        }
      ],
      "source": [
        "model=Sequential()\n",
        "model.add(base_model)\n",
        "model.add(Dropout(0.5))\n",
        "model.add(Flatten())\n",
        "model.add(BatchNormalization())\n",
        "model.add(Dense(64))\n",
        "model.add(BatchNormalization())\n",
        "model.add(Activation('relu'))\n",
        "model.add(Dropout(0.5))\n",
        "model.add(Dense(64))\n",
        "model.add(BatchNormalization())\n",
        "model.add(Activation('relu'))\n",
        "model.add(Dropout(0.5))\n",
        "model.add(Dense(64))\n",
        "model.add(BatchNormalization())\n",
        "model.add(Activation('relu'))\n",
        "model.add(Dropout(0.5))\n",
        "model.add(Dense(32))\n",
        "model.add(BatchNormalization())\n",
        "model.add(Activation('relu'))\n",
        "model.add(Dropout(0.5))\n",
        "model.add(Dense(32))\n",
        "model.add(BatchNormalization())\n",
        "model.add(Activation('relu'))\n",
        "model.add(Dense(4,activation='softmax'))\n",
        "model.summary()"
      ]
    },
    {
      "cell_type": "code",
      "execution_count": 20,
      "metadata": {
        "id": "a50FtTLifTMj"
      },
      "outputs": [],
      "source": [
        "model.compile(optimizer='rmsprop', loss='categorical_crossentropy',metrics=METRICS)"
      ]
    },
    {
      "cell_type": "code",
      "execution_count": 21,
      "metadata": {
        "id": "3xjDRZp4fTPO",
        "colab": {
          "base_uri": "https://localhost:8080/"
        },
        "outputId": "e8eec52a-11e5-4030-880b-20c75d320ae8"
      },
      "outputs": [
        {
          "output_type": "stream",
          "name": "stdout",
          "text": [
            "Epoch 1/10\n",
            "129/129 [==============================] - 75s 519ms/step - loss: 1.0953 - accuracy: 0.7468 - val_loss: 1.0973 - val_accuracy: 0.7297 - lr: 0.0100\n",
            "Epoch 2/10\n",
            "129/129 [==============================] - 65s 502ms/step - loss: 1.0465 - accuracy: 0.7588 - val_loss: 1.0566 - val_accuracy: 0.7644 - lr: 0.0063\n",
            "Epoch 3/10\n",
            "129/129 [==============================] - 66s 512ms/step - loss: 1.0330 - accuracy: 0.7604 - val_loss: 1.0591 - val_accuracy: 0.7696 - lr: 0.0040\n",
            "Epoch 4/10\n",
            "129/129 [==============================] - 65s 499ms/step - loss: 1.0271 - accuracy: 0.7672 - val_loss: 1.0452 - val_accuracy: 0.7703 - lr: 0.0025\n",
            "Epoch 5/10\n",
            "129/129 [==============================] - 65s 500ms/step - loss: 1.0207 - accuracy: 0.7682 - val_loss: 1.0356 - val_accuracy: 0.7722 - lr: 0.0016\n",
            "Epoch 6/10\n",
            "129/129 [==============================] - 64s 496ms/step - loss: 1.0274 - accuracy: 0.7704 - val_loss: 1.0373 - val_accuracy: 0.7710 - lr: 0.0010\n",
            "Epoch 7/10\n",
            "129/129 [==============================] - 64s 494ms/step - loss: 1.0187 - accuracy: 0.7680 - val_loss: 1.0331 - val_accuracy: 0.7705 - lr: 6.3096e-04\n",
            "Epoch 8/10\n",
            "129/129 [==============================] - 64s 493ms/step - loss: 1.0190 - accuracy: 0.7692 - val_loss: 1.0317 - val_accuracy: 0.7717 - lr: 3.9811e-04\n",
            "Epoch 9/10\n",
            "129/129 [==============================] - 64s 492ms/step - loss: 1.0191 - accuracy: 0.7710 - val_loss: 1.0324 - val_accuracy: 0.7713 - lr: 2.5119e-04\n",
            "Epoch 10/10\n",
            "129/129 [==============================] - 64s 492ms/step - loss: 1.0142 - accuracy: 0.7695 - val_loss: 1.0318 - val_accuracy: 0.7717 - lr: 1.5849e-04\n"
          ]
        }
      ],
      "source": [
        "history=model.fit(train_dataset, validation_data=valid_dataset, epochs = 10, verbose = 1, callbacks=lr_scheduler)"
      ]
    },
    {
      "cell_type": "code",
      "execution_count": 22,
      "metadata": {
        "id": "Y6v2n0mFf4n6",
        "colab": {
          "base_uri": "https://localhost:8080/",
          "height": 370
        },
        "outputId": "b1d2dfa7-7340-4ba8-a5a7-39894d5a1be9"
      },
      "outputs": [
        {
          "output_type": "display_data",
          "data": {
            "image/png": "[encoded data removed]",
            "text/plain": [
              "<Figure size 1440x360 with 2 Axes>"
            ]
          },
          "metadata": {
            "needs_background": "light"
          }
        }
      ],
      "source": [
        "Train_Val_Plot(history.history['accuracy'],history.history['val_accuracy'],\n",
        "               history.history['loss'],history.history['val_loss'])"
      ]
    },
    {
      "cell_type": "code",
      "execution_count": 23,
      "metadata": {
        "id": "bXQZQEfNgSjZ",
        "colab": {
          "base_uri": "https://localhost:8080/"
        },
        "outputId": "b9e55018-b778-46db-b35d-665c42cb8890"
      },
      "outputs": [
        {
          "output_type": "stream",
          "name": "stderr",
          "text": [
            "/usr/local/lib/python3.7/dist-packages/ipykernel_launcher.py:1: UserWarning: `Model.evaluate_generator` is deprecated and will be removed in a future version. Please use `Model.evaluate`, which supports generators.\n",
            "  \"\"\"Entry point for launching an IPython kernel.\n"
          ]
        }
      ],
      "source": [
        "scores = model.evaluate_generator(test_dataset)"
      ]
    },
    {
      "cell_type": "code",
      "execution_count": 24,
      "metadata": {
        "id": "BSbYdSj9gWlm",
        "colab": {
          "base_uri": "https://localhost:8080/"
        },
        "outputId": "f8f654ca-30b6-44ec-d17f-8c2f4a8176bd"
      },
      "outputs": [
        {
          "output_type": "stream",
          "name": "stdout",
          "text": [
            "Loss =  1.0042762756347656\n",
            "Accuracy =  0.7797107100486755\n"
          ]
        }
      ],
      "source": [
        "print(\"Loss = \", scores[0])\n",
        "print(\"Accuracy = \", scores[1])"
      ]
    },
    {
      "cell_type": "code",
      "execution_count": 25,
      "metadata": {
        "id": "oeJOIxdaI5WC"
      },
      "outputs": [],
      "source": [
        "metrics_lis.append([\"ResNet\", scores[0], scores[1]])"
      ]
    },
    {
      "cell_type": "markdown",
      "source": [
        "# VGG16"
      ],
      "metadata": {
        "id": "jXcl3Z-BCxrG"
      }
    },
    {
      "cell_type": "code",
      "execution_count": 26,
      "metadata": {
        "id": "tXlWH9qY3Y8v",
        "colab": {
          "base_uri": "https://localhost:8080/"
        },
        "outputId": "759a0b4b-6ead-46a5-9906-449fe8cfd0b0"
      },
      "outputs": [
        {
          "output_type": "stream",
          "name": "stdout",
          "text": [
            "Downloading data from https://storage.googleapis.com/tensorflow/keras-applications/vgg16/vgg16_weights_tf_dim_ordering_tf_kernels_notop.h5\n",
            "58892288/58889256 [==============================] - 0s 0us/step\n",
            "58900480/58889256 [==============================] - 0s 0us/step\n"
          ]
        }
      ],
      "source": [
        "base_model = VGG16(input_shape=(224,224,3), include_top=False, weights=\"imagenet\")"
      ]
    },
    {
      "cell_type": "code",
      "execution_count": 27,
      "metadata": {
        "id": "Cxs2n3GH3Y-_"
      },
      "outputs": [],
      "source": [
        "for layer in base_model.layers:\n",
        "    layer.trainable=False"
      ]
    },
    {
      "cell_type": "code",
      "execution_count": 28,
      "metadata": {
        "id": "bIiqM7093ZBn",
        "colab": {
          "base_uri": "https://localhost:8080/"
        },
        "outputId": "754a7569-fa55-4057-b86e-1ae2fb1439d1"
      },
      "outputs": [
        {
          "output_type": "stream",
          "name": "stdout",
          "text": [
            "Model: \"sequential_2\"\n",
            "_________________________________________________________________\n",
            " Layer (type)                Output Shape              Param #   \n",
            "=================================================================\n",
            " vgg16 (Functional)          (None, 7, 7, 512)         14714688  \n",
            "                                                                 \n",
            " dropout_5 (Dropout)         (None, 7, 7, 512)         0         \n",
            "                                                                 \n",
            " flatten_2 (Flatten)         (None, 25088)             0         \n",
            "                                                                 \n",
            " batch_normalization_6 (Batc  (None, 25088)            100352    \n",
            " hNormalization)                                                 \n",
            "                                                                 \n",
            " dense_11 (Dense)            (None, 2048)              51382272  \n",
            "                                                                 \n",
            " batch_normalization_7 (Batc  (None, 2048)             8192      \n",
            " hNormalization)                                                 \n",
            "                                                                 \n",
            " activation_6 (Activation)   (None, 2048)              0         \n",
            "                                                                 \n",
            " dropout_6 (Dropout)         (None, 2048)              0         \n",
            "                                                                 \n",
            " dense_12 (Dense)            (None, 1024)              2098176   \n",
            "                                                                 \n",
            " batch_normalization_8 (Batc  (None, 1024)             4096      \n",
            " hNormalization)                                                 \n",
            "                                                                 \n",
            " activation_7 (Activation)   (None, 1024)              0         \n",
            "                                                                 \n",
            " dropout_7 (Dropout)         (None, 1024)              0         \n",
            "                                                                 \n",
            " dense_13 (Dense)            (None, 4)                 4100      \n",
            "                                                                 \n",
            "=================================================================\n",
            "Total params: 68,311,876\n",
            "Trainable params: 53,540,868\n",
            "Non-trainable params: 14,771,008\n",
            "_________________________________________________________________\n"
          ]
        }
      ],
      "source": [
        "model=Sequential()\n",
        "model.add(base_model)\n",
        "model.add(Dropout(0.5))\n",
        "model.add(Flatten())\n",
        "model.add(BatchNormalization())\n",
        "model.add(Dense(2048,kernel_initializer='he_uniform'))\n",
        "model.add(BatchNormalization())\n",
        "model.add(Activation('relu'))\n",
        "model.add(Dropout(0.5))\n",
        "model.add(Dense(1024,kernel_initializer='he_uniform'))\n",
        "model.add(BatchNormalization())\n",
        "model.add(Activation('relu'))\n",
        "model.add(Dropout(0.5))\n",
        "model.add(Dense(4,activation='softmax'))\n",
        "\n",
        "model.summary()"
      ]
    },
    {
      "cell_type": "code",
      "execution_count": 29,
      "metadata": {
        "id": "TtwNvf5q3ZEB"
      },
      "outputs": [],
      "source": [
        "model.compile(loss='categorical_crossentropy', metrics=METRICS, optimizer=\"rmsprop\")"
      ]
    },
    {
      "cell_type": "code",
      "execution_count": 30,
      "metadata": {
        "id": "7_BNg4x33ZGz",
        "colab": {
          "base_uri": "https://localhost:8080/"
        },
        "outputId": "78d28905-230c-4878-f908-02f981f3f60c"
      },
      "outputs": [
        {
          "output_type": "stream",
          "name": "stdout",
          "text": [
            "Epoch 1/10\n",
            "129/129 [==============================] - 82s 588ms/step - loss: 2.0744 - accuracy: 0.7391 - val_loss: 2.0485 - val_accuracy: 0.7502 - lr: 0.0100\n",
            "Epoch 2/10\n",
            "129/129 [==============================] - 71s 552ms/step - loss: 1.1596 - accuracy: 0.7651 - val_loss: 1.0762 - val_accuracy: 0.7561 - lr: 0.0063\n",
            "Epoch 3/10\n",
            "129/129 [==============================] - 71s 548ms/step - loss: 1.0439 - accuracy: 0.7771 - val_loss: 1.0068 - val_accuracy: 0.7837 - lr: 0.0040\n",
            "Epoch 4/10\n",
            "129/129 [==============================] - 72s 554ms/step - loss: 0.9932 - accuracy: 0.7866 - val_loss: 0.9884 - val_accuracy: 0.7823 - lr: 0.0025\n",
            "Epoch 5/10\n",
            "129/129 [==============================] - 71s 549ms/step - loss: 0.9782 - accuracy: 0.7929 - val_loss: 1.0097 - val_accuracy: 0.7715 - lr: 0.0016\n",
            "Epoch 6/10\n",
            "129/129 [==============================] - 71s 548ms/step - loss: 0.9652 - accuracy: 0.7930 - val_loss: 1.0129 - val_accuracy: 0.7761 - lr: 0.0010\n",
            "Epoch 7/10\n",
            "129/129 [==============================] - 72s 554ms/step - loss: 0.9468 - accuracy: 0.7931 - val_loss: 1.0025 - val_accuracy: 0.7600 - lr: 6.3096e-04\n",
            "Epoch 8/10\n",
            "129/129 [==============================] - 71s 548ms/step - loss: 0.9440 - accuracy: 0.7978 - val_loss: 1.0029 - val_accuracy: 0.7700 - lr: 3.9811e-04\n",
            "Epoch 9/10\n",
            "129/129 [==============================] - 71s 546ms/step - loss: 0.9412 - accuracy: 0.7995 - val_loss: 0.9997 - val_accuracy: 0.7713 - lr: 2.5119e-04\n",
            "Epoch 10/10\n",
            "129/129 [==============================] - 70s 543ms/step - loss: 0.9356 - accuracy: 0.8006 - val_loss: 1.0003 - val_accuracy: 0.7737 - lr: 1.5849e-04\n"
          ]
        }
      ],
      "source": [
        "history=model.fit(train_dataset, validation_data=valid_dataset, epochs = 10, verbose = 1, callbacks=lr_scheduler)"
      ]
    },
    {
      "cell_type": "code",
      "execution_count": 31,
      "metadata": {
        "id": "29E1X6pA3ZJQ",
        "colab": {
          "base_uri": "https://localhost:8080/",
          "height": 370
        },
        "outputId": "b9693c72-752e-48db-faf1-70023518c3fd"
      },
      "outputs": [
        {
          "output_type": "display_data",
          "data": {
            "image/png": "[encoded data removed]",
            "text/plain": [
              "<Figure size 1440x360 with 2 Axes>"
            ]
          },
          "metadata": {
            "needs_background": "light"
          }
        }
      ],
      "source": [
        "Train_Val_Plot(history.history['accuracy'],history.history['val_accuracy'],\n",
        "               history.history['loss'],history.history['val_loss'])"
      ]
    },
    {
      "cell_type": "code",
      "execution_count": 32,
      "metadata": {
        "id": "tUsbg8fW4RCb",
        "colab": {
          "base_uri": "https://localhost:8080/"
        },
        "outputId": "401635b1-0577-4355-f0be-9e6f1495d4dc"
      },
      "outputs": [
        {
          "output_type": "stream",
          "name": "stderr",
          "text": [
            "/usr/local/lib/python3.7/dist-packages/ipykernel_launcher.py:1: UserWarning: `Model.evaluate_generator` is deprecated and will be removed in a future version. Please use `Model.evaluate`, which supports generators.\n",
            "  \"\"\"Entry point for launching an IPython kernel.\n"
          ]
        }
      ],
      "source": [
        "scores = model.evaluate_generator(test_dataset)"
      ]
    },
    {
      "cell_type": "code",
      "execution_count": 33,
      "metadata": {
        "id": "4MN838Iu4V70",
        "colab": {
          "base_uri": "https://localhost:8080/"
        },
        "outputId": "7f40e0bd-bcf7-4c15-a0c3-05bd8046353c"
      },
      "outputs": [
        {
          "output_type": "stream",
          "name": "stdout",
          "text": [
            "Loss =  0.942965030670166\n",
            "Accuracy =  0.7912431359291077\n"
          ]
        }
      ],
      "source": [
        "print(\"Loss = \", scores[0])\n",
        "print(\"Accuracy = \", scores[1])"
      ]
    },
    {
      "cell_type": "code",
      "execution_count": 34,
      "metadata": {
        "id": "sSyoqp264WD4"
      },
      "outputs": [],
      "source": [
        "metrics_lis.append([\"VGG16\", scores[0], scores[1]])"
      ]
    },
    {
      "cell_type": "markdown",
      "source": [
        "# InceptionV3"
      ],
      "metadata": {
        "id": "OB_A2FzEDK7B"
      }
    },
    {
      "cell_type": "code",
      "execution_count": 35,
      "metadata": {
        "id": "X0RkrUj3gW0t",
        "colab": {
          "base_uri": "https://localhost:8080/"
        },
        "outputId": "9344a654-ec62-4d8a-8d22-c7a8a770e905"
      },
      "outputs": [
        {
          "output_type": "stream",
          "name": "stdout",
          "text": [
            "Downloading data from https://storage.googleapis.com/tensorflow/keras-applications/inception_v3/inception_v3_weights_tf_dim_ordering_tf_kernels_notop.h5\n",
            "87916544/87910968 [==============================] - 1s 0us/step\n",
            "87924736/87910968 [==============================] - 1s 0us/step\n"
          ]
        }
      ],
      "source": [
        "base_model = InceptionV3(input_shape=(224,224,3), include_top=False, weights=\"imagenet\")"
      ]
    },
    {
      "cell_type": "code",
      "execution_count": 36,
      "metadata": {
        "id": "yEIBlynWgW3h"
      },
      "outputs": [],
      "source": [
        "for layer in base_model.layers:\n",
        "    layer.trainable=False"
      ]
    },
    {
      "cell_type": "code",
      "execution_count": 37,
      "metadata": {
        "id": "TH3t7BhigwHf",
        "colab": {
          "base_uri": "https://localhost:8080/"
        },
        "outputId": "1d554b0d-e1a2-430e-fe7a-f44c6dcc61a6"
      },
      "outputs": [
        {
          "output_type": "stream",
          "name": "stdout",
          "text": [
            "Model: \"sequential_3\"\n",
            "_________________________________________________________________\n",
            " Layer (type)                Output Shape              Param #   \n",
            "=================================================================\n",
            " inception_v3 (Functional)   (None, 5, 5, 2048)        21802784  \n",
            "                                                                 \n",
            " dropout_8 (Dropout)         (None, 5, 5, 2048)        0         \n",
            "                                                                 \n",
            " global_average_pooling2d (G  (None, 2048)             0         \n",
            " lobalAveragePooling2D)                                          \n",
            "                                                                 \n",
            " flatten_3 (Flatten)         (None, 2048)              0         \n",
            "                                                                 \n",
            " batch_normalization_103 (Ba  (None, 2048)             8192      \n",
            " tchNormalization)                                               \n",
            "                                                                 \n",
            " dense_14 (Dense)            (None, 64)                131136    \n",
            "                                                                 \n",
            " batch_normalization_104 (Ba  (None, 64)               256       \n",
            " tchNormalization)                                               \n",
            "                                                                 \n",
            " activation_102 (Activation)  (None, 64)               0         \n",
            "                                                                 \n",
            " dropout_9 (Dropout)         (None, 64)                0         \n",
            "                                                                 \n",
            " dense_15 (Dense)            (None, 64)                4160      \n",
            "                                                                 \n",
            " batch_normalization_105 (Ba  (None, 64)               256       \n",
            " tchNormalization)                                               \n",
            "                                                                 \n",
            " activation_103 (Activation)  (None, 64)               0         \n",
            "                                                                 \n",
            " dropout_10 (Dropout)        (None, 64)                0         \n",
            "                                                                 \n",
            " dense_16 (Dense)            (None, 64)                4160      \n",
            "                                                                 \n",
            " batch_normalization_106 (Ba  (None, 64)               256       \n",
            " tchNormalization)                                               \n",
            "                                                                 \n",
            " activation_104 (Activation)  (None, 64)               0         \n",
            "                                                                 \n",
            " dropout_11 (Dropout)        (None, 64)                0         \n",
            "                                                                 \n",
            " dense_17 (Dense)            (None, 32)                2080      \n",
            "                                                                 \n",
            " batch_normalization_107 (Ba  (None, 32)               128       \n",
            " tchNormalization)                                               \n",
            "                                                                 \n",
            " activation_105 (Activation)  (None, 32)               0         \n",
            "                                                                 \n",
            " dropout_12 (Dropout)        (None, 32)                0         \n",
            "                                                                 \n",
            " dense_18 (Dense)            (None, 32)                1056      \n",
            "                                                                 \n",
            " batch_normalization_108 (Ba  (None, 32)               128       \n",
            " tchNormalization)                                               \n",
            "                                                                 \n",
            " activation_106 (Activation)  (None, 32)               0         \n",
            "                                                                 \n",
            " dense_19 (Dense)            (None, 4)                 132       \n",
            "                                                                 \n",
            "=================================================================\n",
            "Total params: 21,954,724\n",
            "Trainable params: 147,332\n",
            "Non-trainable params: 21,807,392\n",
            "_________________________________________________________________\n"
          ]
        }
      ],
      "source": [
        "model=Sequential()\n",
        "model.add(base_model)\n",
        "model.add(Dropout(0.5))\n",
        "model.add(tf.keras.layers.GlobalAveragePooling2D())\n",
        "model.add(Flatten())\n",
        "model.add(BatchNormalization())\n",
        "model.add(Dense(64))\n",
        "model.add(BatchNormalization())\n",
        "model.add(Activation('relu'))\n",
        "model.add(Dropout(0.5))\n",
        "model.add(Dense(64))\n",
        "model.add(BatchNormalization())\n",
        "model.add(Activation('relu'))\n",
        "model.add(Dropout(0.5))\n",
        "model.add(Dense(64))\n",
        "model.add(BatchNormalization())\n",
        "model.add(Activation('relu'))\n",
        "model.add(Dropout(0.5))\n",
        "model.add(Dense(32))\n",
        "model.add(BatchNormalization())\n",
        "model.add(Activation('relu'))\n",
        "model.add(Dropout(0.5))\n",
        "model.add(Dense(32))\n",
        "model.add(BatchNormalization())\n",
        "model.add(Activation('relu'))\n",
        "model.add(Dense(4,activation='softmax'))\n",
        "model.summary()"
      ]
    },
    {
      "cell_type": "code",
      "execution_count": 38,
      "metadata": {
        "id": "_FNiu0dagwKl"
      },
      "outputs": [],
      "source": [
        "model.compile(optimizer='rmsprop', loss='categorical_crossentropy',metrics=METRICS)"
      ]
    },
    {
      "cell_type": "code",
      "execution_count": 39,
      "metadata": {
        "id": "P6TfRQ6GhIBU",
        "colab": {
          "base_uri": "https://localhost:8080/"
        },
        "outputId": "97b7c294-e28e-4012-a17f-12ee771f3aa0"
      },
      "outputs": [
        {
          "output_type": "stream",
          "name": "stdout",
          "text": [
            "Epoch 1/10\n",
            "129/129 [==============================] - 71s 483ms/step - loss: 1.0593 - accuracy: 0.7707 - val_loss: 1.0113 - val_accuracy: 0.7896 - lr: 0.0100\n",
            "Epoch 2/10\n",
            "129/129 [==============================] - 60s 461ms/step - loss: 0.9954 - accuracy: 0.7817 - val_loss: 1.0344 - val_accuracy: 0.7739 - lr: 0.0063\n",
            "Epoch 3/10\n",
            "129/129 [==============================] - 59s 459ms/step - loss: 0.9717 - accuracy: 0.7884 - val_loss: 1.0057 - val_accuracy: 0.7825 - lr: 0.0040\n",
            "Epoch 4/10\n",
            "129/129 [==============================] - 59s 457ms/step - loss: 0.9677 - accuracy: 0.7875 - val_loss: 1.0181 - val_accuracy: 0.7781 - lr: 0.0025\n",
            "Epoch 5/10\n",
            "129/129 [==============================] - 59s 453ms/step - loss: 0.9595 - accuracy: 0.7879 - val_loss: 1.0149 - val_accuracy: 0.7793 - lr: 0.0016\n",
            "Epoch 6/10\n",
            "129/129 [==============================] - 59s 458ms/step - loss: 0.9484 - accuracy: 0.7909 - val_loss: 1.0218 - val_accuracy: 0.7786 - lr: 0.0010\n",
            "Epoch 7/10\n",
            "129/129 [==============================] - 58s 452ms/step - loss: 0.9539 - accuracy: 0.7914 - val_loss: 1.0267 - val_accuracy: 0.7783 - lr: 6.3096e-04\n",
            "Epoch 8/10\n",
            "129/129 [==============================] - 59s 454ms/step - loss: 0.9468 - accuracy: 0.7939 - val_loss: 1.0246 - val_accuracy: 0.7783 - lr: 3.9811e-04\n",
            "Epoch 9/10\n",
            "129/129 [==============================] - 59s 454ms/step - loss: 0.9591 - accuracy: 0.7911 - val_loss: 1.0245 - val_accuracy: 0.7783 - lr: 2.5119e-04\n",
            "Epoch 10/10\n",
            "129/129 [==============================] - 60s 461ms/step - loss: 0.9415 - accuracy: 0.7953 - val_loss: 1.0247 - val_accuracy: 0.7774 - lr: 1.5849e-04\n"
          ]
        }
      ],
      "source": [
        "history=model.fit(train_dataset, validation_data=valid_dataset, epochs = 10, verbose = 1, callbacks=lr_scheduler)"
      ]
    },
    {
      "cell_type": "code",
      "execution_count": 40,
      "metadata": {
        "id": "DTnvnFyTiu_r",
        "colab": {
          "base_uri": "https://localhost:8080/",
          "height": 370
        },
        "outputId": "b577382a-5ff4-499b-d01a-b172825f5b00"
      },
      "outputs": [
        {
          "output_type": "display_data",
          "data": {
            "image/png": "[encoded data removed]",
            "text/plain": [
              "<Figure size 1440x360 with 2 Axes>"
            ]
          },
          "metadata": {
            "needs_background": "light"
          }
        }
      ],
      "source": [
        "Train_Val_Plot(history.history['accuracy'],history.history['val_accuracy'],\n",
        "               history.history['loss'],history.history['val_loss'])"
      ]
    },
    {
      "cell_type": "code",
      "execution_count": 41,
      "metadata": {
        "id": "B4Uq5pbIivCb",
        "colab": {
          "base_uri": "https://localhost:8080/"
        },
        "outputId": "f76d2d78-638a-4239-cf69-5afd678b9ab8"
      },
      "outputs": [
        {
          "output_type": "stream",
          "name": "stderr",
          "text": [
            "/usr/local/lib/python3.7/dist-packages/ipykernel_launcher.py:1: UserWarning: `Model.evaluate_generator` is deprecated and will be removed in a future version. Please use `Model.evaluate`, which supports generators.\n",
            "  \"\"\"Entry point for launching an IPython kernel.\n"
          ]
        }
      ],
      "source": [
        "scores = model.evaluate_generator(test_dataset)"
      ]
    },
    {
      "cell_type": "code",
      "execution_count": 42,
      "metadata": {
        "id": "IhpA9oW3i1IU",
        "colab": {
          "base_uri": "https://localhost:8080/"
        },
        "outputId": "2f4cfb9a-68aa-41d5-c42f-6d0f846e5caa"
      },
      "outputs": [
        {
          "output_type": "stream",
          "name": "stdout",
          "text": [
            "Loss =  1.0125575065612793\n",
            "Accuracy =  0.7742376923561096\n"
          ]
        }
      ],
      "source": [
        "print(\"Loss = \", scores[0])\n",
        "print(\"Accuracy = \", scores[1])"
      ]
    },
    {
      "cell_type": "code",
      "execution_count": 43,
      "metadata": {
        "id": "4TqdlWqEJBGi"
      },
      "outputs": [],
      "source": [
        "metrics_lis.append([\"InceptionV3\", scores[0], scores[1]])"
      ]
    },
    {
      "cell_type": "markdown",
      "source": [
        "# InceptionResNetV2"
      ],
      "metadata": {
        "id": "D1-sElUfDVrR"
      }
    },
    {
      "cell_type": "code",
      "execution_count": 44,
      "metadata": {
        "id": "J-9AcSGGi1K9",
        "colab": {
          "base_uri": "https://localhost:8080/"
        },
        "outputId": "1dc68b03-edf5-4953-e516-86650af1b75e"
      },
      "outputs": [
        {
          "output_type": "stream",
          "name": "stdout",
          "text": [
            "Downloading data from https://storage.googleapis.com/tensorflow/keras-applications/inception_resnet_v2/inception_resnet_v2_weights_tf_dim_ordering_tf_kernels_notop.h5\n",
            "219062272/219055592 [==============================] - 2s 0us/step\n",
            "219070464/219055592 [==============================] - 2s 0us/step\n"
          ]
        }
      ],
      "source": [
        "base_model = tf.keras.applications.InceptionResNetV2(input_shape=(224,224,3), include_top=False, weights=\"imagenet\")"
      ]
    },
    {
      "cell_type": "code",
      "execution_count": 45,
      "metadata": {
        "id": "Hm5gk_TVi1Nh"
      },
      "outputs": [],
      "source": [
        "for layer in base_model.layers:\n",
        "    layer.trainable=False"
      ]
    },
    {
      "cell_type": "code",
      "execution_count": 46,
      "metadata": {
        "id": "Rp0qx-9aj7A2",
        "colab": {
          "base_uri": "https://localhost:8080/"
        },
        "outputId": "6a78cf3f-366e-4235-c28f-0e6d5a98eb49"
      },
      "outputs": [
        {
          "output_type": "stream",
          "name": "stdout",
          "text": [
            "Model: \"sequential_4\"\n",
            "_________________________________________________________________\n",
            " Layer (type)                Output Shape              Param #   \n",
            "=================================================================\n",
            " inception_resnet_v2 (Functi  (None, 5, 5, 1536)       54336736  \n",
            " onal)                                                           \n",
            "                                                                 \n",
            " dropout_13 (Dropout)        (None, 5, 5, 1536)        0         \n",
            "                                                                 \n",
            " flatten_4 (Flatten)         (None, 38400)             0         \n",
            "                                                                 \n",
            " batch_normalization_312 (Ba  (None, 38400)            153600    \n",
            " tchNormalization)                                               \n",
            "                                                                 \n",
            " dense_20 (Dense)            (None, 32)                1228832   \n",
            "                                                                 \n",
            " batch_normalization_313 (Ba  (None, 32)               128       \n",
            " tchNormalization)                                               \n",
            "                                                                 \n",
            " activation_310 (Activation)  (None, 32)               0         \n",
            "                                                                 \n",
            " dropout_14 (Dropout)        (None, 32)                0         \n",
            "                                                                 \n",
            " dense_21 (Dense)            (None, 32)                1056      \n",
            "                                                                 \n",
            " batch_normalization_314 (Ba  (None, 32)               128       \n",
            " tchNormalization)                                               \n",
            "                                                                 \n",
            " activation_311 (Activation)  (None, 32)               0         \n",
            "                                                                 \n",
            " dropout_15 (Dropout)        (None, 32)                0         \n",
            "                                                                 \n",
            " dense_22 (Dense)            (None, 32)                1056      \n",
            "                                                                 \n",
            " batch_normalization_315 (Ba  (None, 32)               128       \n",
            " tchNormalization)                                               \n",
            "                                                                 \n",
            " activation_312 (Activation)  (None, 32)               0         \n",
            "                                                                 \n",
            " dense_23 (Dense)            (None, 4)                 132       \n",
            "                                                                 \n",
            "=================================================================\n",
            "Total params: 55,721,796\n",
            "Trainable params: 1,308,068\n",
            "Non-trainable params: 54,413,728\n",
            "_________________________________________________________________\n"
          ]
        }
      ],
      "source": [
        "model=Sequential()\n",
        "model.add(base_model)\n",
        "model.add(Dropout(0.5))\n",
        "model.add(Flatten())\n",
        "model.add(BatchNormalization())\n",
        "model.add(Dense(32,kernel_initializer='he_uniform'))\n",
        "model.add(BatchNormalization())\n",
        "model.add(Activation('relu'))\n",
        "model.add(Dropout(0.5))\n",
        "model.add(Dense(32,kernel_initializer='he_uniform'))\n",
        "model.add(BatchNormalization())\n",
        "model.add(Activation('relu'))\n",
        "model.add(Dropout(0.5))\n",
        "model.add(Dense(32,kernel_initializer='he_uniform'))\n",
        "model.add(BatchNormalization())\n",
        "model.add(Activation('relu'))\n",
        "model.add(Dense(4,activation='softmax'))\n",
        "model.summary()"
      ]
    },
    {
      "cell_type": "code",
      "execution_count": 47,
      "metadata": {
        "id": "qfTJRQIOj7DL"
      },
      "outputs": [],
      "source": [
        "model.compile(optimizer='rmsprop', loss='categorical_crossentropy',metrics=METRICS)"
      ]
    },
    {
      "cell_type": "code",
      "execution_count": 48,
      "metadata": {
        "id": "aBDmXb5Kj7GE",
        "colab": {
          "base_uri": "https://localhost:8080/"
        },
        "outputId": "7b3577a4-1a9d-4df7-f883-2d6321802ee7"
      },
      "outputs": [
        {
          "output_type": "stream",
          "name": "stdout",
          "text": [
            "Epoch 1/10\n",
            "129/129 [==============================] - 100s 657ms/step - loss: 1.0901 - accuracy: 0.7567 - val_loss: 1.0173 - val_accuracy: 0.7901 - lr: 0.0100\n",
            "Epoch 2/10\n",
            "129/129 [==============================] - 81s 627ms/step - loss: 1.0246 - accuracy: 0.7678 - val_loss: 1.0373 - val_accuracy: 0.7869 - lr: 0.0063\n",
            "Epoch 3/10\n",
            "129/129 [==============================] - 80s 616ms/step - loss: 1.0038 - accuracy: 0.7762 - val_loss: 0.9981 - val_accuracy: 0.7752 - lr: 0.0040\n",
            "Epoch 4/10\n",
            "129/129 [==============================] - 80s 620ms/step - loss: 1.0006 - accuracy: 0.7798 - val_loss: 0.9982 - val_accuracy: 0.7727 - lr: 0.0025\n",
            "Epoch 5/10\n",
            "129/129 [==============================] - 81s 623ms/step - loss: 0.9905 - accuracy: 0.7790 - val_loss: 0.9952 - val_accuracy: 0.7766 - lr: 0.0016\n",
            "Epoch 6/10\n",
            "129/129 [==============================] - 80s 621ms/step - loss: 0.9834 - accuracy: 0.7814 - val_loss: 1.0026 - val_accuracy: 0.7761 - lr: 0.0010\n",
            "Epoch 7/10\n",
            "129/129 [==============================] - 80s 616ms/step - loss: 0.9727 - accuracy: 0.7861 - val_loss: 1.0010 - val_accuracy: 0.7737 - lr: 6.3096e-04\n",
            "Epoch 8/10\n",
            "129/129 [==============================] - 80s 617ms/step - loss: 0.9848 - accuracy: 0.7819 - val_loss: 1.0021 - val_accuracy: 0.7739 - lr: 3.9811e-04\n",
            "Epoch 9/10\n",
            "129/129 [==============================] - 80s 617ms/step - loss: 0.9779 - accuracy: 0.7846 - val_loss: 1.0017 - val_accuracy: 0.7744 - lr: 2.5119e-04\n",
            "Epoch 10/10\n",
            "129/129 [==============================] - 80s 621ms/step - loss: 0.9805 - accuracy: 0.7833 - val_loss: 1.0029 - val_accuracy: 0.7737 - lr: 1.5849e-04\n"
          ]
        }
      ],
      "source": [
        "history=model.fit(train_dataset, validation_data=valid_dataset, epochs = 10, verbose = 1, callbacks=lr_scheduler)"
      ]
    },
    {
      "cell_type": "code",
      "execution_count": 49,
      "metadata": {
        "id": "Ef5AalhZnfLC",
        "colab": {
          "base_uri": "https://localhost:8080/",
          "height": 370
        },
        "outputId": "4fddf271-ee90-40c0-8054-cf99bda302fc"
      },
      "outputs": [
        {
          "output_type": "display_data",
          "data": {
            "image/png": "[encoded data removed]",
            "text/plain": [
              "<Figure size 1440x360 with 2 Axes>"
            ]
          },
          "metadata": {
            "needs_background": "light"
          }
        }
      ],
      "source": [
        "Train_Val_Plot(history.history['accuracy'],history.history['val_accuracy'],\n",
        "               history.history['loss'],history.history['val_loss'])"
      ]
    },
    {
      "cell_type": "code",
      "execution_count": 50,
      "metadata": {
        "id": "2VrtZgETnmz6",
        "colab": {
          "base_uri": "https://localhost:8080/"
        },
        "outputId": "e5ff03e7-e8a8-4169-814a-fb968de47fb0"
      },
      "outputs": [
        {
          "output_type": "stream",
          "name": "stderr",
          "text": [
            "/usr/local/lib/python3.7/dist-packages/ipykernel_launcher.py:1: UserWarning: `Model.evaluate_generator` is deprecated and will be removed in a future version. Please use `Model.evaluate`, which supports generators.\n",
            "  \"\"\"Entry point for launching an IPython kernel.\n"
          ]
        }
      ],
      "source": [
        "scores = model.evaluate_generator(test_dataset)"
      ]
    },
    {
      "cell_type": "code",
      "execution_count": 51,
      "metadata": {
        "id": "YpKwfpvLnkqM",
        "colab": {
          "base_uri": "https://localhost:8080/"
        },
        "outputId": "d79f125f-022e-4135-eea0-2c8b04b59bc3"
      },
      "outputs": [
        {
          "output_type": "stream",
          "name": "stdout",
          "text": [
            "Loss =  0.9708396792411804\n",
            "Accuracy =  0.7853792309761047\n"
          ]
        }
      ],
      "source": [
        "print(\"Loss = \", scores[0])\n",
        "print(\"Accuracy = \", scores[1])"
      ]
    },
    {
      "cell_type": "code",
      "execution_count": 52,
      "metadata": {
        "id": "iNy3I0BoJIYz"
      },
      "outputs": [],
      "source": [
        "metrics_lis.append([\"InceptionResNetV2\", scores[0], scores[1]])"
      ]
    },
    {
      "cell_type": "code",
      "execution_count": 53,
      "metadata": {
        "id": "oYefm_x9JLm2",
        "colab": {
          "base_uri": "https://localhost:8080/",
          "height": 206
        },
        "outputId": "5c73d8aa-533a-4127-d229-30060dfc89f1"
      },
      "outputs": [
        {
          "output_type": "execute_result",
          "data": {
            "text/html": [
              "<table border=\"1\" class=\"dataframe\">\n",
              "  <thead>\n",
              "    <tr style=\"text-align: right;\">\n",
              "      <th>Model</th>\n",
              "      <th>Loss</th>\n",
              "      <th>Accuracy</th>\n",
              "    </tr>\n",
              "  </thead>\n",
              "  <tbody>\n",
              "    <tr>\n",
              "      <td>CNN</td>\n",
              "      <td>1.033049</td>\n",
              "      <td>0.750000</td>\n",
              "    </tr>\n",
              "    <tr>\n",
              "      <td>ResNet</td>\n",
              "      <td>1.004276</td>\n",
              "      <td>0.779711</td>\n",
              "    </tr>\n",
              "    <tr>\n",
              "      <td>VGG16</td>\n",
              "      <td>0.942965</td>\n",
              "      <td>0.791243</td>\n",
              "    </tr>\n",
              "    <tr>\n",
              "      <td>InceptionV3</td>\n",
              "      <td>1.012558</td>\n",
              "      <td>0.774238</td>\n",
              "    </tr>\n",
              "    <tr>\n",
              "      <td>InceptionResNetV2</td>\n",
              "      <td>0.970840</td>\n",
              "      <td>0.785379</td>\n",
              "    </tr>\n",
              "  </tbody>\n",
              "</table>"
            ],
            "text/plain": [
              "<IPython.core.display.HTML object>"
            ]
          },
          "metadata": {},
          "execution_count": 53
        }
      ],
      "source": [
        "df =  pd.DataFrame(metrics_lis)\n",
        "df.rename(columns={0:\"Model\", 1: \"Loss\", 2: \"Accuracy\"}, inplace = True)\n",
        "from IPython.display import HTML\n",
        "HTML(df.to_html(index=False),)"
      ]
    }
  ],
  "metadata": {
    "accelerator": "GPU",
    "colab": {
      "collapsed_sections": [],
      "name": "E0119005-CA4.ipynb",
      "provenance": []
    },
    "kernelspec": {
      "display_name": "Python 3",
      "name": "python3"
    },
    "language_info": {
      "name": "python"
    }
  },
  "nbformat": 4,
  "nbformat_minor": 0
}